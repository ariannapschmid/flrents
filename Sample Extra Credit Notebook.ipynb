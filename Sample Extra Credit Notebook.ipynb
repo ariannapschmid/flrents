{
 "cells": [
  {
   "cell_type": "markdown",
   "metadata": {},
   "source": [
    "# Median Gross Rent in Florida (2015-2019)\n",
    "\n"
   ]
  },
  {
   "cell_type": "markdown",
   "metadata": {},
   "source": [
    "## Abstract\n",
    "Where in Florida is rent affordable? What does rent look like and how has rent changed in Florida from 2015 to 2019? This notebook looks at the median gross rent estimates at a county level in the state of Florida from 2015-2019. \n",
    "#### The Census Bureau defines Gross Rent as \"the contract rent plus the estimated average monthly cost of utilities (electricity, gas, water and sewer) and fuels (oil, coal, kerosene, wood, etc.).\" \n",
    "The source of the data is the U.S. Census Bureau's API, so data after 2019 is not yet available. This data has already been web-scraped and uploaded to the notebook in the form of 5 .csv files (one for each year). \n",
    "The code will read, clean, format, and filter the data. It will then analyze, by year, all the counties' Median Gross Rents and determine if they are affordable to single-person and 2-person households earning a minimum-wage income. Affordable is defined as being able to pay rent with no more than 30% of the monthly salary. Afterwards, the counties with the highest rents acroess all 5 years are subsetted and used for visual plots and analyses. "
   ]
  },
  {
   "cell_type": "markdown",
   "metadata": {},
   "source": [
    "## Scraping the Data \n",
    "#### The following steps walk you through the process of how I scraped the census data. This notebook assumes that steps 1-7 below have already been completed.      \n",
    "1. Install and load the following modules:\n",
    "        pip install us\n",
    "        pip install census\n",
    "        import pandas as pd\n",
    "        from census import Census\n",
    "        from us import states\n",
    "\n",
    "2. The Census Bureau’s API requires an API key that can be obtained here: https://api.census.gov/data/key_signup.html. Your key will be emailed to you as a 40 digit text string. Once obtained, pass it through the Census() function and store it in a variable (I called mine 'c'). This variable  will be used when scraping the 5 data sets we want.\n",
    "    c = Census(\"my_key_here\")   \n",
    "3. Now we want to get our Median Gross Rent variable. The B25031_001 variable is the Census Bureau's name for the Median Gross Rent. Thousands of other Census variables can be obtained in the American Community Survey site: https://api.census.gov/data/2019/acs/acs5/variables.html. \n",
    "4. Now that we have all needed fields to import the data, we proceed with running the following code (note that this yields one data set for the year 2015. This chunk is run 5 times with the 'year' parameter adjusted):\n",
    "        fl_rent2015 = c.acs1.state_county(fields = ('NAME', 'B25031_001E'),\n",
    "                                              state_fips = states.FL.fips,\n",
    "                                              county_fips = \"*\",\n",
    "                                              year = 2015)\n",
    "                                      \n",
    "5. Create a dataframe from the census data:\n",
    "        fl_rent2015_df = pd.DataFrame(fl_rent2015)\n",
    "6. Steps 4 and 5 are repeated for years 2016, 2017, 2018, and 2019. The resulting 5 dataframes are saved as local .csv files using the following code:\n",
    "        from google.colab import files\n",
    "        fl_rent2015_df.to_csv('FLrent2015.csv') \n",
    "        files.download('FLrent2015.csv')\n",
    "        fl_rent2016_df.to_csv('FLrent2016.csv') \n",
    "        files.download('FLrent2016.csv')\n",
    "        fl_rent2017_df.to_csv('FLrent2017.csv') \n",
    "        files.download('FLrent2017.csv')\n",
    "        fl_rent2018_df.to_csv('FLrent2018.csv') \n",
    "        files.download('FLrent2018.csv')\n",
    "        fl_rent2019_df.to_csv('FLrent2019.csv') \n",
    "        files.download('FLrent2019.csv')\n",
    "7. Now we have our data stored and it is ready to upload to Vocareum and use in this notebook.    "
   ]
  },
  {
   "cell_type": "markdown",
   "metadata": {},
   "source": [
    "## Reading, Cleaning and Formatting the Data "
   ]
  },
  {
   "cell_type": "code",
   "execution_count": 2,
   "metadata": {},
   "outputs": [
    {
     "data": {
      "text/plain": [
       "(41, 5)"
      ]
     },
     "execution_count": 2,
     "metadata": {},
     "output_type": "execute_result"
    }
   ],
   "source": [
    "#### This code cell reads in our 5 data sets. We then make a note of their shapes(number of rows, columns)\n",
    "# import pandas module \n",
    "import pandas as pd \n",
    "\n",
    "# making dataframe for 2015-2019 rent data\n",
    "df2015 = pd.read_csv(\"FLrent2015.csv\") \n",
    "df2016 = pd.read_csv(\"FLrent2016.csv\") \n",
    "df2017 = pd.read_csv(\"FLrent2017.csv\") \n",
    "df2018 = pd.read_csv(\"FLrent2018.csv\") \n",
    "df2019 = pd.read_csv(\"FLrent2019.csv\") \n",
    "\n",
    "df2015.shape\n",
    "df2016.shape\n",
    "df2017.shape\n",
    "df2018.shape\n",
    "df2019.shape\n"
   ]
  },
  {
   "cell_type": "markdown",
   "metadata": {},
   "source": [
    "* Keep in mind that our 2015 frame has 40 rows, and the rest have 41 rows. We use this fact later during analyses. "
   ]
  },
  {
   "cell_type": "markdown",
   "metadata": {},
   "source": [
    "To see what we're working with, lets look at the first data set for the year 2015. "
   ]
  },
  {
   "cell_type": "code",
   "execution_count": 3,
   "metadata": {},
   "outputs": [
    {
     "data": {
      "text/html": [
       "<div>\n",
       "<style scoped>\n",
       "    .dataframe tbody tr th:only-of-type {\n",
       "        vertical-align: middle;\n",
       "    }\n",
       "\n",
       "    .dataframe tbody tr th {\n",
       "        vertical-align: top;\n",
       "    }\n",
       "\n",
       "    .dataframe thead th {\n",
       "        text-align: right;\n",
       "    }\n",
       "</style>\n",
       "<table border=\"1\" class=\"dataframe\">\n",
       "  <thead>\n",
       "    <tr style=\"text-align: right;\">\n",
       "      <th></th>\n",
       "      <th>Unnamed: 0</th>\n",
       "      <th>NAME</th>\n",
       "      <th>B25031_001E</th>\n",
       "      <th>state</th>\n",
       "      <th>county</th>\n",
       "    </tr>\n",
       "  </thead>\n",
       "  <tbody>\n",
       "    <tr>\n",
       "      <th>0</th>\n",
       "      <td>0</td>\n",
       "      <td>Escambia County, Florida</td>\n",
       "      <td>880.0</td>\n",
       "      <td>12</td>\n",
       "      <td>33</td>\n",
       "    </tr>\n",
       "    <tr>\n",
       "      <th>1</th>\n",
       "      <td>1</td>\n",
       "      <td>Hernando County, Florida</td>\n",
       "      <td>915.0</td>\n",
       "      <td>12</td>\n",
       "      <td>53</td>\n",
       "    </tr>\n",
       "    <tr>\n",
       "      <th>2</th>\n",
       "      <td>2</td>\n",
       "      <td>Hillsborough County, Florida</td>\n",
       "      <td>990.0</td>\n",
       "      <td>12</td>\n",
       "      <td>57</td>\n",
       "    </tr>\n",
       "    <tr>\n",
       "      <th>3</th>\n",
       "      <td>3</td>\n",
       "      <td>Okaloosa County, Florida</td>\n",
       "      <td>1066.0</td>\n",
       "      <td>12</td>\n",
       "      <td>91</td>\n",
       "    </tr>\n",
       "    <tr>\n",
       "      <th>4</th>\n",
       "      <td>4</td>\n",
       "      <td>Duval County, Florida</td>\n",
       "      <td>975.0</td>\n",
       "      <td>12</td>\n",
       "      <td>31</td>\n",
       "    </tr>\n",
       "  </tbody>\n",
       "</table>\n",
       "</div>"
      ],
      "text/plain": [
       "   Unnamed: 0                          NAME  B25031_001E  state  county\n",
       "0           0      Escambia County, Florida        880.0     12      33\n",
       "1           1      Hernando County, Florida        915.0     12      53\n",
       "2           2  Hillsborough County, Florida        990.0     12      57\n",
       "3           3      Okaloosa County, Florida       1066.0     12      91\n",
       "4           4         Duval County, Florida        975.0     12      31"
      ]
     },
     "metadata": {},
     "output_type": "display_data"
    }
   ],
   "source": [
    "display(df2015.head())"
   ]
  },
  {
   "cell_type": "markdown",
   "metadata": {},
   "source": [
    "We can fix it up a little bit. The \"clean\" fucntion below is applied to all 5 data sets. "
   ]
  },
  {
   "cell_type": "code",
   "execution_count": 4,
   "metadata": {},
   "outputs": [
    {
     "data": {
      "text/html": [
       "<div>\n",
       "<style scoped>\n",
       "    .dataframe tbody tr th:only-of-type {\n",
       "        vertical-align: middle;\n",
       "    }\n",
       "\n",
       "    .dataframe tbody tr th {\n",
       "        vertical-align: top;\n",
       "    }\n",
       "\n",
       "    .dataframe thead th {\n",
       "        text-align: right;\n",
       "    }\n",
       "</style>\n",
       "<table border=\"1\" class=\"dataframe\">\n",
       "  <thead>\n",
       "    <tr style=\"text-align: right;\">\n",
       "      <th></th>\n",
       "      <th>County</th>\n",
       "      <th>Median Gross Rent</th>\n",
       "      <th>state</th>\n",
       "      <th>CountyID</th>\n",
       "    </tr>\n",
       "  </thead>\n",
       "  <tbody>\n",
       "    <tr>\n",
       "      <th>27</th>\n",
       "      <td>Alachua County</td>\n",
       "      <td>863.0</td>\n",
       "      <td>FL</td>\n",
       "      <td>1</td>\n",
       "    </tr>\n",
       "    <tr>\n",
       "      <th>39</th>\n",
       "      <td>Bay County</td>\n",
       "      <td>982.0</td>\n",
       "      <td>FL</td>\n",
       "      <td>5</td>\n",
       "    </tr>\n",
       "    <tr>\n",
       "      <th>35</th>\n",
       "      <td>Brevard County</td>\n",
       "      <td>976.0</td>\n",
       "      <td>FL</td>\n",
       "      <td>9</td>\n",
       "    </tr>\n",
       "    <tr>\n",
       "      <th>33</th>\n",
       "      <td>Broward County</td>\n",
       "      <td>1256.0</td>\n",
       "      <td>FL</td>\n",
       "      <td>11</td>\n",
       "    </tr>\n",
       "    <tr>\n",
       "      <th>28</th>\n",
       "      <td>Charlotte County</td>\n",
       "      <td>932.0</td>\n",
       "      <td>FL</td>\n",
       "      <td>15</td>\n",
       "    </tr>\n",
       "  </tbody>\n",
       "</table>\n",
       "</div>"
      ],
      "text/plain": [
       "              County  Median Gross Rent state  CountyID\n",
       "27    Alachua County              863.0    FL         1\n",
       "39        Bay County              982.0    FL         5\n",
       "35    Brevard County              976.0    FL         9\n",
       "33    Broward County             1256.0    FL        11\n",
       "28  Charlotte County              932.0    FL        15"
      ]
     },
     "metadata": {},
     "output_type": "display_data"
    }
   ],
   "source": [
    "import re\n",
    "def clean(df):\n",
    "    # Rename columns\n",
    "    df2 = df.rename(columns={'B25031_001E': 'Median Gross Rent',\n",
    "                             'NAME': 'County',\n",
    "                             'county': 'CountyID'})\n",
    "    # Delete columns we don't need\n",
    "    del df2['Unnamed: 0'] \n",
    "    # Change state value from 12 to 'FL'\n",
    "    df2['state'] = 'FL'\n",
    "    # Remove \",Florida\" from 'County' column\n",
    "    pattern = re.compile(', Florida')\n",
    "    df2[\"County\"] = df2[\"County\"].str.replace(pattern,\"\")\n",
    "    # Sort alphabetically by county\n",
    "    df2 = df2.sort_values(by = 'County', ascending=True, ignore_index = False)\n",
    "    return df2\n",
    "\n",
    "df2015 = clean(df2015)\n",
    "df2016 = clean(df2016)\n",
    "df2017 = clean(df2017)\n",
    "df2018 = clean(df2018)\n",
    "df2019 = clean(df2019)\n",
    "    \n",
    "    \n",
    "display(df2015[0:5])"
   ]
  },
  {
   "cell_type": "markdown",
   "metadata": {},
   "source": [
    "That looks much better. Now lets dive deeper into our 2015 data set."
   ]
  },
  {
   "cell_type": "markdown",
   "metadata": {},
   "source": [
    "### Investigating Minimum Wage in 2015"
   ]
  },
  {
   "cell_type": "markdown",
   "metadata": {},
   "source": [
    "As of January 1, 2015, the Florida minimum wage was $8.05. Is this enough to cover the median gross rent? Is this enough to pay the median rent with no more than 30% of one's total monthly income?\n",
    "\n",
    "8.05 hourly pay x 8 hours/day x 30 days/month = 1932 each month (before tax deductions)\n",
    "\n",
    "1932 x 30% = 579.6\n",
    "\n",
    "So it is recommended to spend no more than 579.6 on rent. "
   ]
  },
  {
   "cell_type": "code",
   "execution_count": 5,
   "metadata": {},
   "outputs": [
    {
     "data": {
      "text/plain": [
       "0"
      ]
     },
     "execution_count": 5,
     "metadata": {},
     "output_type": "execute_result"
    }
   ],
   "source": [
    "import numpy as np\n",
    "df2015['Min wage enough'] = np.where(df2015['Median Gross Rent'] <= 579.6, True, False)\n",
    "len(df2015[df2015['Min wage enough']== True])"
   ]
  },
  {
   "cell_type": "markdown",
   "metadata": {},
   "source": [
    "The table above has length 0 hence it is empty. So the minimum wage is not enough for a single person to cover rent for ANY county in Florida. \n",
    "Out of curiosity, what if there are two people living in the housing structure working a minimum wage job?\n",
    "\n",
    "8.05 hourly pay x 8 hours/day x 30 days/month = 1932 each month (before tax deductions)\n",
    "1932 salary/person x 2 people = 3864 each month combied\n",
    "\n",
    "3864 x 30% = 1159.2\n",
    "\n",
    "So it is recommended to spend no more than 1159.2 on rent."
   ]
  },
  {
   "cell_type": "code",
   "execution_count": 6,
   "metadata": {},
   "outputs": [
    {
     "data": {
      "text/plain": [
       "34"
      ]
     },
     "execution_count": 6,
     "metadata": {},
     "output_type": "execute_result"
    }
   ],
   "source": [
    "df2015['Min wage enough for 2'] = np.where(df2015['Median Gross Rent'] <= 1159.2, True, False)\n",
    "df2015.head()\n",
    "len(df2015[df2015['Min wage enough for 2']== True])"
   ]
  },
  {
   "cell_type": "markdown",
   "metadata": {},
   "source": [
    "So based on the 'Min wage enough for 2' column, there are 34 out of 40 counties where two people's combined income is enough to cover the Median Gross Rent. Which counties remain unaffordable?"
   ]
  },
  {
   "cell_type": "code",
   "execution_count": 7,
   "metadata": {},
   "outputs": [
    {
     "data": {
      "text/html": [
       "<div>\n",
       "<style scoped>\n",
       "    .dataframe tbody tr th:only-of-type {\n",
       "        vertical-align: middle;\n",
       "    }\n",
       "\n",
       "    .dataframe tbody tr th {\n",
       "        vertical-align: top;\n",
       "    }\n",
       "\n",
       "    .dataframe thead th {\n",
       "        text-align: right;\n",
       "    }\n",
       "</style>\n",
       "<table border=\"1\" class=\"dataframe\">\n",
       "  <thead>\n",
       "    <tr style=\"text-align: right;\">\n",
       "      <th></th>\n",
       "      <th>County</th>\n",
       "      <th>Median Gross Rent</th>\n",
       "      <th>state</th>\n",
       "      <th>CountyID</th>\n",
       "      <th>Min wage enough</th>\n",
       "      <th>Min wage enough for 2</th>\n",
       "    </tr>\n",
       "  </thead>\n",
       "  <tbody>\n",
       "    <tr>\n",
       "      <th>33</th>\n",
       "      <td>Broward County</td>\n",
       "      <td>1256.0</td>\n",
       "      <td>FL</td>\n",
       "      <td>11</td>\n",
       "      <td>False</td>\n",
       "      <td>False</td>\n",
       "    </tr>\n",
       "    <tr>\n",
       "      <th>15</th>\n",
       "      <td>Collier County</td>\n",
       "      <td>1177.0</td>\n",
       "      <td>FL</td>\n",
       "      <td>21</td>\n",
       "      <td>False</td>\n",
       "      <td>False</td>\n",
       "    </tr>\n",
       "    <tr>\n",
       "      <th>12</th>\n",
       "      <td>Miami-Dade County</td>\n",
       "      <td>1162.0</td>\n",
       "      <td>FL</td>\n",
       "      <td>86</td>\n",
       "      <td>False</td>\n",
       "      <td>False</td>\n",
       "    </tr>\n",
       "    <tr>\n",
       "      <th>34</th>\n",
       "      <td>Monroe County</td>\n",
       "      <td>1441.0</td>\n",
       "      <td>FL</td>\n",
       "      <td>87</td>\n",
       "      <td>False</td>\n",
       "      <td>False</td>\n",
       "    </tr>\n",
       "    <tr>\n",
       "      <th>10</th>\n",
       "      <td>Palm Beach County</td>\n",
       "      <td>1241.0</td>\n",
       "      <td>FL</td>\n",
       "      <td>99</td>\n",
       "      <td>False</td>\n",
       "      <td>False</td>\n",
       "    </tr>\n",
       "    <tr>\n",
       "      <th>11</th>\n",
       "      <td>St. Johns County</td>\n",
       "      <td>1213.0</td>\n",
       "      <td>FL</td>\n",
       "      <td>109</td>\n",
       "      <td>False</td>\n",
       "      <td>False</td>\n",
       "    </tr>\n",
       "  </tbody>\n",
       "</table>\n",
       "</div>"
      ],
      "text/plain": [
       "               County  Median Gross Rent state  CountyID  Min wage enough  \\\n",
       "33     Broward County             1256.0    FL        11            False   \n",
       "15     Collier County             1177.0    FL        21            False   \n",
       "12  Miami-Dade County             1162.0    FL        86            False   \n",
       "34      Monroe County             1441.0    FL        87            False   \n",
       "10  Palm Beach County             1241.0    FL        99            False   \n",
       "11   St. Johns County             1213.0    FL       109            False   \n",
       "\n",
       "    Min wage enough for 2  \n",
       "33                  False  \n",
       "15                  False  \n",
       "12                  False  \n",
       "34                  False  \n",
       "10                  False  \n",
       "11                  False  "
      ]
     },
     "execution_count": 7,
     "metadata": {},
     "output_type": "execute_result"
    }
   ],
   "source": [
    "df2015[df2015['Min wage enough for 2']== False]"
   ]
  },
  {
   "cell_type": "markdown",
   "metadata": {},
   "source": [
    "So the 6 counties in the table above seem to be the most unaffordable. Will this persist after 2015? Let's see what happens in 2016. "
   ]
  },
  {
   "cell_type": "markdown",
   "metadata": {},
   "source": [
    "### Investigating Minimum Wage in 2016\n",
    "In 2016, the Florida minimum wage was $8.05 (same as 2015). Is this enough to cover the median gross rent? Is this enough to pay the median rent with no more than 30% of one's total monthly income?\n",
    "\n",
    "8.05 hourly pay x 8 hours/day x 30 days/month = 1932 dollars earned each month (before tax deductions)\n",
    "\n",
    "1932 x 30% = 579.6 dollars\n",
    "\n",
    "So it is recommended to spend no more than 579.6 on rent. Our results might be the same to last years', depending on how much Medium Gross Rent changed. Let's see. \n"
   ]
  },
  {
   "cell_type": "code",
   "execution_count": 8,
   "metadata": {},
   "outputs": [
    {
     "data": {
      "text/plain": [
       "0"
      ]
     },
     "execution_count": 8,
     "metadata": {},
     "output_type": "execute_result"
    }
   ],
   "source": [
    "df2016['Min wage enough'] = np.where(df2016['Median Gross Rent'] <= 579.6, True, False)\n",
    "len(df2016[df2016['Min wage enough']== True])"
   ]
  },
  {
   "cell_type": "markdown",
   "metadata": {},
   "source": [
    "Our prediction was correct; Just like in 2015, there exists no county where the Median Gross Rent can be covered by 30% of the minimum wage. \n",
    "\n",
    "What about a 2 person household?"
   ]
  },
  {
   "cell_type": "code",
   "execution_count": 9,
   "metadata": {},
   "outputs": [
    {
     "data": {
      "text/plain": [
       "33"
      ]
     },
     "execution_count": 9,
     "metadata": {},
     "output_type": "execute_result"
    }
   ],
   "source": [
    "df2016['Min wage enough for 2'] = np.where(df2016['Median Gross Rent'] <= 1159.2, True, False)\n",
    "len(df2016[df2016['Min wage enough for 2']== True])"
   ]
  },
  {
   "cell_type": "markdown",
   "metadata": {},
   "source": [
    "Based on the 'Min wage enough for 2' variable above, there are 33 out of 41 counties in 2016 where two people's combined income is enough to cover the Median Gross Rent. Which counties remain unaffordable in 2016?"
   ]
  },
  {
   "cell_type": "code",
   "execution_count": 10,
   "metadata": {},
   "outputs": [
    {
     "data": {
      "text/html": [
       "<div>\n",
       "<style scoped>\n",
       "    .dataframe tbody tr th:only-of-type {\n",
       "        vertical-align: middle;\n",
       "    }\n",
       "\n",
       "    .dataframe tbody tr th {\n",
       "        vertical-align: top;\n",
       "    }\n",
       "\n",
       "    .dataframe thead th {\n",
       "        text-align: right;\n",
       "    }\n",
       "</style>\n",
       "<table border=\"1\" class=\"dataframe\">\n",
       "  <thead>\n",
       "    <tr style=\"text-align: right;\">\n",
       "      <th></th>\n",
       "      <th>County</th>\n",
       "      <th>Median Gross Rent</th>\n",
       "      <th>state</th>\n",
       "      <th>CountyID</th>\n",
       "      <th>Min wage enough</th>\n",
       "      <th>Min wage enough for 2</th>\n",
       "    </tr>\n",
       "  </thead>\n",
       "  <tbody>\n",
       "    <tr>\n",
       "      <th>35</th>\n",
       "      <td>Broward County</td>\n",
       "      <td>1296.0</td>\n",
       "      <td>FL</td>\n",
       "      <td>11</td>\n",
       "      <td>False</td>\n",
       "      <td>False</td>\n",
       "    </tr>\n",
       "    <tr>\n",
       "      <th>13</th>\n",
       "      <td>Collier County</td>\n",
       "      <td>1230.0</td>\n",
       "      <td>FL</td>\n",
       "      <td>21</td>\n",
       "      <td>False</td>\n",
       "      <td>False</td>\n",
       "    </tr>\n",
       "    <tr>\n",
       "      <th>8</th>\n",
       "      <td>Miami-Dade County</td>\n",
       "      <td>1201.0</td>\n",
       "      <td>FL</td>\n",
       "      <td>86</td>\n",
       "      <td>False</td>\n",
       "      <td>False</td>\n",
       "    </tr>\n",
       "    <tr>\n",
       "      <th>36</th>\n",
       "      <td>Monroe County</td>\n",
       "      <td>1677.0</td>\n",
       "      <td>FL</td>\n",
       "      <td>87</td>\n",
       "      <td>False</td>\n",
       "      <td>False</td>\n",
       "    </tr>\n",
       "    <tr>\n",
       "      <th>2</th>\n",
       "      <td>Nassau County</td>\n",
       "      <td>1177.0</td>\n",
       "      <td>FL</td>\n",
       "      <td>89</td>\n",
       "      <td>False</td>\n",
       "      <td>False</td>\n",
       "    </tr>\n",
       "    <tr>\n",
       "      <th>6</th>\n",
       "      <td>Palm Beach County</td>\n",
       "      <td>1303.0</td>\n",
       "      <td>FL</td>\n",
       "      <td>99</td>\n",
       "      <td>False</td>\n",
       "      <td>False</td>\n",
       "    </tr>\n",
       "    <tr>\n",
       "      <th>32</th>\n",
       "      <td>Sarasota County</td>\n",
       "      <td>1182.0</td>\n",
       "      <td>FL</td>\n",
       "      <td>115</td>\n",
       "      <td>False</td>\n",
       "      <td>False</td>\n",
       "    </tr>\n",
       "    <tr>\n",
       "      <th>7</th>\n",
       "      <td>St. Johns County</td>\n",
       "      <td>1246.0</td>\n",
       "      <td>FL</td>\n",
       "      <td>109</td>\n",
       "      <td>False</td>\n",
       "      <td>False</td>\n",
       "    </tr>\n",
       "  </tbody>\n",
       "</table>\n",
       "</div>"
      ],
      "text/plain": [
       "               County  Median Gross Rent state  CountyID  Min wage enough  \\\n",
       "35     Broward County             1296.0    FL        11            False   \n",
       "13     Collier County             1230.0    FL        21            False   \n",
       "8   Miami-Dade County             1201.0    FL        86            False   \n",
       "36      Monroe County             1677.0    FL        87            False   \n",
       "2       Nassau County             1177.0    FL        89            False   \n",
       "6   Palm Beach County             1303.0    FL        99            False   \n",
       "32    Sarasota County             1182.0    FL       115            False   \n",
       "7    St. Johns County             1246.0    FL       109            False   \n",
       "\n",
       "    Min wage enough for 2  \n",
       "35                  False  \n",
       "13                  False  \n",
       "8                   False  \n",
       "36                  False  \n",
       "2                   False  \n",
       "6                   False  \n",
       "32                  False  \n",
       "7                   False  "
      ]
     },
     "execution_count": 10,
     "metadata": {},
     "output_type": "execute_result"
    }
   ],
   "source": [
    "df2016[df2016['Min wage enough for 2']== False]"
   ]
  },
  {
   "cell_type": "markdown",
   "metadata": {},
   "source": [
    "### Investigating Minimum Wage in 2017\n",
    "In 2017, the Florida minimum wage was $8.10. Is this enough to cover the median gross rent? Is this enough to pay the median rent with no more than 30% of one's total monthly income?\n",
    "\n",
    "8.10 hourly pay x 8 hours/day x 30 days/month = 1944 dollars earned each month (before tax deductions)\n",
    "\n",
    "1944 x 30% = 583.2\n",
    "\n",
    "So in 2017, it was recommended to spend no more than 583.2 dollars on rent. \n",
    "* Results below are similar to the previous years' results; no county's Median Gross Rent can be covered by 30% of the minimum wage. "
   ]
  },
  {
   "cell_type": "code",
   "execution_count": 11,
   "metadata": {},
   "outputs": [
    {
     "data": {
      "text/plain": [
       "0"
      ]
     },
     "execution_count": 11,
     "metadata": {},
     "output_type": "execute_result"
    }
   ],
   "source": [
    "df2017['Min wage enough'] = np.where(df2017['Median Gross Rent'] <= 583.2, True, False)\n",
    "len(df2017[df2017['Min wage enough']== True])"
   ]
  },
  {
   "cell_type": "markdown",
   "metadata": {},
   "source": [
    "What about a two-person household?"
   ]
  },
  {
   "cell_type": "code",
   "execution_count": 12,
   "metadata": {},
   "outputs": [
    {
     "data": {
      "text/plain": [
       "30"
      ]
     },
     "execution_count": 12,
     "metadata": {},
     "output_type": "execute_result"
    }
   ],
   "source": [
    "df2017['Min wage enough for 2'] = np.where(df2017['Median Gross Rent'] <= 1166.4, True, False)\n",
    "len(df2017[df2017['Min wage enough for 2']== True])"
   ]
  },
  {
   "cell_type": "markdown",
   "metadata": {},
   "source": [
    " Based on the 'Min wage enough for 2' variable above, there are 30 out of 41 counties where two people's combined income is enough to cover the Median Gross Rent. Which counties remain unaffordable in 2017?"
   ]
  },
  {
   "cell_type": "code",
   "execution_count": 13,
   "metadata": {},
   "outputs": [
    {
     "data": {
      "text/html": [
       "<div>\n",
       "<style scoped>\n",
       "    .dataframe tbody tr th:only-of-type {\n",
       "        vertical-align: middle;\n",
       "    }\n",
       "\n",
       "    .dataframe tbody tr th {\n",
       "        vertical-align: top;\n",
       "    }\n",
       "\n",
       "    .dataframe thead th {\n",
       "        text-align: right;\n",
       "    }\n",
       "</style>\n",
       "<table border=\"1\" class=\"dataframe\">\n",
       "  <thead>\n",
       "    <tr style=\"text-align: right;\">\n",
       "      <th></th>\n",
       "      <th>County</th>\n",
       "      <th>Median Gross Rent</th>\n",
       "      <th>state</th>\n",
       "      <th>CountyID</th>\n",
       "      <th>Min wage enough</th>\n",
       "      <th>Min wage enough for 2</th>\n",
       "    </tr>\n",
       "  </thead>\n",
       "  <tbody>\n",
       "    <tr>\n",
       "      <th>35</th>\n",
       "      <td>Broward County</td>\n",
       "      <td>1328.0</td>\n",
       "      <td>FL</td>\n",
       "      <td>11</td>\n",
       "      <td>False</td>\n",
       "      <td>False</td>\n",
       "    </tr>\n",
       "    <tr>\n",
       "      <th>20</th>\n",
       "      <td>Collier County</td>\n",
       "      <td>1281.0</td>\n",
       "      <td>FL</td>\n",
       "      <td>21</td>\n",
       "      <td>False</td>\n",
       "      <td>False</td>\n",
       "    </tr>\n",
       "    <tr>\n",
       "      <th>14</th>\n",
       "      <td>Flagler County</td>\n",
       "      <td>1179.0</td>\n",
       "      <td>FL</td>\n",
       "      <td>35</td>\n",
       "      <td>False</td>\n",
       "      <td>False</td>\n",
       "    </tr>\n",
       "    <tr>\n",
       "      <th>12</th>\n",
       "      <td>Miami-Dade County</td>\n",
       "      <td>1290.0</td>\n",
       "      <td>FL</td>\n",
       "      <td>86</td>\n",
       "      <td>False</td>\n",
       "      <td>False</td>\n",
       "    </tr>\n",
       "    <tr>\n",
       "      <th>36</th>\n",
       "      <td>Monroe County</td>\n",
       "      <td>1550.0</td>\n",
       "      <td>FL</td>\n",
       "      <td>87</td>\n",
       "      <td>False</td>\n",
       "      <td>False</td>\n",
       "    </tr>\n",
       "    <tr>\n",
       "      <th>15</th>\n",
       "      <td>Osceola County</td>\n",
       "      <td>1183.0</td>\n",
       "      <td>FL</td>\n",
       "      <td>97</td>\n",
       "      <td>False</td>\n",
       "      <td>False</td>\n",
       "    </tr>\n",
       "    <tr>\n",
       "      <th>9</th>\n",
       "      <td>Palm Beach County</td>\n",
       "      <td>1349.0</td>\n",
       "      <td>FL</td>\n",
       "      <td>99</td>\n",
       "      <td>False</td>\n",
       "      <td>False</td>\n",
       "    </tr>\n",
       "    <tr>\n",
       "      <th>29</th>\n",
       "      <td>Sarasota County</td>\n",
       "      <td>1206.0</td>\n",
       "      <td>FL</td>\n",
       "      <td>115</td>\n",
       "      <td>False</td>\n",
       "      <td>False</td>\n",
       "    </tr>\n",
       "    <tr>\n",
       "      <th>11</th>\n",
       "      <td>Seminole County</td>\n",
       "      <td>1202.0</td>\n",
       "      <td>FL</td>\n",
       "      <td>117</td>\n",
       "      <td>False</td>\n",
       "      <td>False</td>\n",
       "    </tr>\n",
       "    <tr>\n",
       "      <th>10</th>\n",
       "      <td>St. Johns County</td>\n",
       "      <td>1296.0</td>\n",
       "      <td>FL</td>\n",
       "      <td>109</td>\n",
       "      <td>False</td>\n",
       "      <td>False</td>\n",
       "    </tr>\n",
       "    <tr>\n",
       "      <th>7</th>\n",
       "      <td>St. Lucie County</td>\n",
       "      <td>1206.0</td>\n",
       "      <td>FL</td>\n",
       "      <td>111</td>\n",
       "      <td>False</td>\n",
       "      <td>False</td>\n",
       "    </tr>\n",
       "  </tbody>\n",
       "</table>\n",
       "</div>"
      ],
      "text/plain": [
       "               County  Median Gross Rent state  CountyID  Min wage enough  \\\n",
       "35     Broward County             1328.0    FL        11            False   \n",
       "20     Collier County             1281.0    FL        21            False   \n",
       "14     Flagler County             1179.0    FL        35            False   \n",
       "12  Miami-Dade County             1290.0    FL        86            False   \n",
       "36      Monroe County             1550.0    FL        87            False   \n",
       "15     Osceola County             1183.0    FL        97            False   \n",
       "9   Palm Beach County             1349.0    FL        99            False   \n",
       "29    Sarasota County             1206.0    FL       115            False   \n",
       "11    Seminole County             1202.0    FL       117            False   \n",
       "10   St. Johns County             1296.0    FL       109            False   \n",
       "7    St. Lucie County             1206.0    FL       111            False   \n",
       "\n",
       "    Min wage enough for 2  \n",
       "35                  False  \n",
       "20                  False  \n",
       "14                  False  \n",
       "12                  False  \n",
       "36                  False  \n",
       "15                  False  \n",
       "9                   False  \n",
       "29                  False  \n",
       "11                  False  \n",
       "10                  False  \n",
       "7                   False  "
      ]
     },
     "execution_count": 13,
     "metadata": {},
     "output_type": "execute_result"
    }
   ],
   "source": [
    "df2017[df2017['Min wage enough for 2']== False]"
   ]
  },
  {
   "cell_type": "markdown",
   "metadata": {},
   "source": [
    "### Investigating Minimum Wage in 2018\n",
    "In 2018, the Florida minimum wage was $8.25. Is this enough to cover the median gross rent? Is this enough to pay the median rent with no more than 30% of one's total monthly income?\n",
    "\n",
    "8.25 hourly pay x 8 hours/day x 30 days/month = 1980 dollars earned each month (before tax deductions)\n",
    "\n",
    "1980 x 30% = 594\n",
    "\n",
    "So in 2018, it was recommended to spend no more than 594 dollars on rent. \n",
    "* Results below are similar to the previous years'; no county's Median Gross Rent can be covered by 30% of the minimum wage. "
   ]
  },
  {
   "cell_type": "code",
   "execution_count": 14,
   "metadata": {},
   "outputs": [
    {
     "data": {
      "text/plain": [
       "0"
      ]
     },
     "execution_count": 14,
     "metadata": {},
     "output_type": "execute_result"
    }
   ],
   "source": [
    "df2018['Min wage enough'] = np.where(df2018['Median Gross Rent'] <= 594, True, False)\n",
    "len(df2018[df2018['Min wage enough']== True])"
   ]
  },
  {
   "cell_type": "markdown",
   "metadata": {},
   "source": [
    "What about a two-person household?"
   ]
  },
  {
   "cell_type": "code",
   "execution_count": 15,
   "metadata": {},
   "outputs": [
    {
     "data": {
      "text/plain": [
       "29"
      ]
     },
     "execution_count": 15,
     "metadata": {},
     "output_type": "execute_result"
    }
   ],
   "source": [
    "df2018['Min wage enough for 2'] = np.where(df2018['Median Gross Rent'] <= 1188, True, False)\n",
    "len(df2018[df2018['Min wage enough for 2']== True])"
   ]
  },
  {
   "cell_type": "markdown",
   "metadata": {},
   "source": [
    "Based on the 'Min wage enough for 2' variable above, there are 29 out of 41 counties where two people's combined income is enough to cover the Median Gross Rent. Which counties remain unaffordable in 2018?"
   ]
  },
  {
   "cell_type": "code",
   "execution_count": 16,
   "metadata": {},
   "outputs": [
    {
     "data": {
      "text/html": [
       "<div>\n",
       "<style scoped>\n",
       "    .dataframe tbody tr th:only-of-type {\n",
       "        vertical-align: middle;\n",
       "    }\n",
       "\n",
       "    .dataframe tbody tr th {\n",
       "        vertical-align: top;\n",
       "    }\n",
       "\n",
       "    .dataframe thead th {\n",
       "        text-align: right;\n",
       "    }\n",
       "</style>\n",
       "<table border=\"1\" class=\"dataframe\">\n",
       "  <thead>\n",
       "    <tr style=\"text-align: right;\">\n",
       "      <th></th>\n",
       "      <th>County</th>\n",
       "      <th>Median Gross Rent</th>\n",
       "      <th>state</th>\n",
       "      <th>CountyID</th>\n",
       "      <th>Min wage enough</th>\n",
       "      <th>Min wage enough for 2</th>\n",
       "    </tr>\n",
       "  </thead>\n",
       "  <tbody>\n",
       "    <tr>\n",
       "      <th>35</th>\n",
       "      <td>Broward County</td>\n",
       "      <td>1372.0</td>\n",
       "      <td>FL</td>\n",
       "      <td>11</td>\n",
       "      <td>False</td>\n",
       "      <td>False</td>\n",
       "    </tr>\n",
       "    <tr>\n",
       "      <th>4</th>\n",
       "      <td>Collier County</td>\n",
       "      <td>1257.0</td>\n",
       "      <td>FL</td>\n",
       "      <td>21</td>\n",
       "      <td>False</td>\n",
       "      <td>False</td>\n",
       "    </tr>\n",
       "    <tr>\n",
       "      <th>3</th>\n",
       "      <td>Lee County</td>\n",
       "      <td>1190.0</td>\n",
       "      <td>FL</td>\n",
       "      <td>71</td>\n",
       "      <td>False</td>\n",
       "      <td>False</td>\n",
       "    </tr>\n",
       "    <tr>\n",
       "      <th>1</th>\n",
       "      <td>Miami-Dade County</td>\n",
       "      <td>1349.0</td>\n",
       "      <td>FL</td>\n",
       "      <td>86</td>\n",
       "      <td>False</td>\n",
       "      <td>False</td>\n",
       "    </tr>\n",
       "    <tr>\n",
       "      <th>36</th>\n",
       "      <td>Monroe County</td>\n",
       "      <td>1691.0</td>\n",
       "      <td>FL</td>\n",
       "      <td>87</td>\n",
       "      <td>False</td>\n",
       "      <td>False</td>\n",
       "    </tr>\n",
       "    <tr>\n",
       "      <th>26</th>\n",
       "      <td>Orange County</td>\n",
       "      <td>1219.0</td>\n",
       "      <td>FL</td>\n",
       "      <td>95</td>\n",
       "      <td>False</td>\n",
       "      <td>False</td>\n",
       "    </tr>\n",
       "    <tr>\n",
       "      <th>23</th>\n",
       "      <td>Osceola County</td>\n",
       "      <td>1296.0</td>\n",
       "      <td>FL</td>\n",
       "      <td>97</td>\n",
       "      <td>False</td>\n",
       "      <td>False</td>\n",
       "    </tr>\n",
       "    <tr>\n",
       "      <th>0</th>\n",
       "      <td>Palm Beach County</td>\n",
       "      <td>1369.0</td>\n",
       "      <td>FL</td>\n",
       "      <td>99</td>\n",
       "      <td>False</td>\n",
       "      <td>False</td>\n",
       "    </tr>\n",
       "    <tr>\n",
       "      <th>30</th>\n",
       "      <td>Sarasota County</td>\n",
       "      <td>1359.0</td>\n",
       "      <td>FL</td>\n",
       "      <td>115</td>\n",
       "      <td>False</td>\n",
       "      <td>False</td>\n",
       "    </tr>\n",
       "    <tr>\n",
       "      <th>20</th>\n",
       "      <td>Seminole County</td>\n",
       "      <td>1244.0</td>\n",
       "      <td>FL</td>\n",
       "      <td>117</td>\n",
       "      <td>False</td>\n",
       "      <td>False</td>\n",
       "    </tr>\n",
       "    <tr>\n",
       "      <th>19</th>\n",
       "      <td>St. Johns County</td>\n",
       "      <td>1200.0</td>\n",
       "      <td>FL</td>\n",
       "      <td>109</td>\n",
       "      <td>False</td>\n",
       "      <td>False</td>\n",
       "    </tr>\n",
       "    <tr>\n",
       "      <th>17</th>\n",
       "      <td>St. Lucie County</td>\n",
       "      <td>1297.0</td>\n",
       "      <td>FL</td>\n",
       "      <td>111</td>\n",
       "      <td>False</td>\n",
       "      <td>False</td>\n",
       "    </tr>\n",
       "  </tbody>\n",
       "</table>\n",
       "</div>"
      ],
      "text/plain": [
       "               County  Median Gross Rent state  CountyID  Min wage enough  \\\n",
       "35     Broward County             1372.0    FL        11            False   \n",
       "4      Collier County             1257.0    FL        21            False   \n",
       "3          Lee County             1190.0    FL        71            False   \n",
       "1   Miami-Dade County             1349.0    FL        86            False   \n",
       "36      Monroe County             1691.0    FL        87            False   \n",
       "26      Orange County             1219.0    FL        95            False   \n",
       "23     Osceola County             1296.0    FL        97            False   \n",
       "0   Palm Beach County             1369.0    FL        99            False   \n",
       "30    Sarasota County             1359.0    FL       115            False   \n",
       "20    Seminole County             1244.0    FL       117            False   \n",
       "19   St. Johns County             1200.0    FL       109            False   \n",
       "17   St. Lucie County             1297.0    FL       111            False   \n",
       "\n",
       "    Min wage enough for 2  \n",
       "35                  False  \n",
       "4                   False  \n",
       "3                   False  \n",
       "1                   False  \n",
       "36                  False  \n",
       "26                  False  \n",
       "23                  False  \n",
       "0                   False  \n",
       "30                  False  \n",
       "20                  False  \n",
       "19                  False  \n",
       "17                  False  "
      ]
     },
     "execution_count": 16,
     "metadata": {},
     "output_type": "execute_result"
    }
   ],
   "source": [
    "df2018[df2018['Min wage enough for 2']== False]"
   ]
  },
  {
   "cell_type": "markdown",
   "metadata": {},
   "source": [
    "### Investigating Minimum Wage in 2019\n",
    "In 2019, the Florida minimum wage was $8.46. Is this enough to cover the median gross rent? Is this enough to pay the median rent with no more than 30% of one's total monthly income?\n",
    "\n",
    "8.46 hourly pay x 8 hours/day x 30 days/month = 2030.4 earned each month (before tax deductions)\n",
    "\n",
    "2030.4 x 30% = 609.12\n",
    "\n",
    "So in 2019, it was recommended to spend no more than 609.12 on rent. \n",
    "* Results below are similar to the previous years'; no county's Median Gross Rent can be covered by 30% of the minimum wage."
   ]
  },
  {
   "cell_type": "code",
   "execution_count": 17,
   "metadata": {},
   "outputs": [
    {
     "data": {
      "text/plain": [
       "0"
      ]
     },
     "execution_count": 17,
     "metadata": {},
     "output_type": "execute_result"
    }
   ],
   "source": [
    "df2019['Min wage enough'] = np.where(df2019['Median Gross Rent'] <= 609.12, True, False)\n",
    "len(df2019[df2019['Min wage enough']== True])"
   ]
  },
  {
   "cell_type": "markdown",
   "metadata": {},
   "source": [
    "What about a two-person household?"
   ]
  },
  {
   "cell_type": "code",
   "execution_count": 18,
   "metadata": {},
   "outputs": [
    {
     "data": {
      "text/plain": [
       "29"
      ]
     },
     "execution_count": 18,
     "metadata": {},
     "output_type": "execute_result"
    }
   ],
   "source": [
    "df2019['Min wage enough for 2'] = np.where(df2019['Median Gross Rent'] <= 1218.24, True, False)\n",
    "len(df2019[df2019['Min wage enough for 2']== True])"
   ]
  },
  {
   "cell_type": "markdown",
   "metadata": {},
   "source": [
    "Based on the 'Min wage enough for 2' variable above, there are 29 out of 41 counties where two people's combined income is enough to cover the Median Gross Rent. That is, MGR is less than or equal to 30% of the combined income of a 2-peroson home. Which counties remained unaffordable in 2019?"
   ]
  },
  {
   "cell_type": "code",
   "execution_count": 19,
   "metadata": {},
   "outputs": [
    {
     "data": {
      "text/html": [
       "<div>\n",
       "<style scoped>\n",
       "    .dataframe tbody tr th:only-of-type {\n",
       "        vertical-align: middle;\n",
       "    }\n",
       "\n",
       "    .dataframe tbody tr th {\n",
       "        vertical-align: top;\n",
       "    }\n",
       "\n",
       "    .dataframe thead th {\n",
       "        text-align: right;\n",
       "    }\n",
       "</style>\n",
       "<table border=\"1\" class=\"dataframe\">\n",
       "  <thead>\n",
       "    <tr style=\"text-align: right;\">\n",
       "      <th></th>\n",
       "      <th>County</th>\n",
       "      <th>Median Gross Rent</th>\n",
       "      <th>state</th>\n",
       "      <th>CountyID</th>\n",
       "      <th>Min wage enough</th>\n",
       "      <th>Min wage enough for 2</th>\n",
       "    </tr>\n",
       "  </thead>\n",
       "  <tbody>\n",
       "    <tr>\n",
       "      <th>25</th>\n",
       "      <td>Broward County</td>\n",
       "      <td>1448.0</td>\n",
       "      <td>FL</td>\n",
       "      <td>11</td>\n",
       "      <td>False</td>\n",
       "      <td>False</td>\n",
       "    </tr>\n",
       "    <tr>\n",
       "      <th>33</th>\n",
       "      <td>Collier County</td>\n",
       "      <td>1397.0</td>\n",
       "      <td>FL</td>\n",
       "      <td>21</td>\n",
       "      <td>False</td>\n",
       "      <td>False</td>\n",
       "    </tr>\n",
       "    <tr>\n",
       "      <th>12</th>\n",
       "      <td>Flagler County</td>\n",
       "      <td>1423.0</td>\n",
       "      <td>FL</td>\n",
       "      <td>35</td>\n",
       "      <td>False</td>\n",
       "      <td>False</td>\n",
       "    </tr>\n",
       "    <tr>\n",
       "      <th>32</th>\n",
       "      <td>Lee County</td>\n",
       "      <td>1220.0</td>\n",
       "      <td>FL</td>\n",
       "      <td>71</td>\n",
       "      <td>False</td>\n",
       "      <td>False</td>\n",
       "    </tr>\n",
       "    <tr>\n",
       "      <th>30</th>\n",
       "      <td>Miami-Dade County</td>\n",
       "      <td>1408.0</td>\n",
       "      <td>FL</td>\n",
       "      <td>86</td>\n",
       "      <td>False</td>\n",
       "      <td>False</td>\n",
       "    </tr>\n",
       "    <tr>\n",
       "      <th>26</th>\n",
       "      <td>Monroe County</td>\n",
       "      <td>1540.0</td>\n",
       "      <td>FL</td>\n",
       "      <td>87</td>\n",
       "      <td>False</td>\n",
       "      <td>False</td>\n",
       "    </tr>\n",
       "    <tr>\n",
       "      <th>16</th>\n",
       "      <td>Orange County</td>\n",
       "      <td>1322.0</td>\n",
       "      <td>FL</td>\n",
       "      <td>95</td>\n",
       "      <td>False</td>\n",
       "      <td>False</td>\n",
       "    </tr>\n",
       "    <tr>\n",
       "      <th>13</th>\n",
       "      <td>Osceola County</td>\n",
       "      <td>1317.0</td>\n",
       "      <td>FL</td>\n",
       "      <td>97</td>\n",
       "      <td>False</td>\n",
       "      <td>False</td>\n",
       "    </tr>\n",
       "    <tr>\n",
       "      <th>29</th>\n",
       "      <td>Palm Beach County</td>\n",
       "      <td>1498.0</td>\n",
       "      <td>FL</td>\n",
       "      <td>99</td>\n",
       "      <td>False</td>\n",
       "      <td>False</td>\n",
       "    </tr>\n",
       "    <tr>\n",
       "      <th>20</th>\n",
       "      <td>Sarasota County</td>\n",
       "      <td>1354.0</td>\n",
       "      <td>FL</td>\n",
       "      <td>115</td>\n",
       "      <td>False</td>\n",
       "      <td>False</td>\n",
       "    </tr>\n",
       "    <tr>\n",
       "      <th>10</th>\n",
       "      <td>Seminole County</td>\n",
       "      <td>1317.0</td>\n",
       "      <td>FL</td>\n",
       "      <td>117</td>\n",
       "      <td>False</td>\n",
       "      <td>False</td>\n",
       "    </tr>\n",
       "    <tr>\n",
       "      <th>9</th>\n",
       "      <td>St. Johns County</td>\n",
       "      <td>1334.0</td>\n",
       "      <td>FL</td>\n",
       "      <td>109</td>\n",
       "      <td>False</td>\n",
       "      <td>False</td>\n",
       "    </tr>\n",
       "  </tbody>\n",
       "</table>\n",
       "</div>"
      ],
      "text/plain": [
       "               County  Median Gross Rent state  CountyID  Min wage enough  \\\n",
       "25     Broward County             1448.0    FL        11            False   \n",
       "33     Collier County             1397.0    FL        21            False   \n",
       "12     Flagler County             1423.0    FL        35            False   \n",
       "32         Lee County             1220.0    FL        71            False   \n",
       "30  Miami-Dade County             1408.0    FL        86            False   \n",
       "26      Monroe County             1540.0    FL        87            False   \n",
       "16      Orange County             1322.0    FL        95            False   \n",
       "13     Osceola County             1317.0    FL        97            False   \n",
       "29  Palm Beach County             1498.0    FL        99            False   \n",
       "20    Sarasota County             1354.0    FL       115            False   \n",
       "10    Seminole County             1317.0    FL       117            False   \n",
       "9    St. Johns County             1334.0    FL       109            False   \n",
       "\n",
       "    Min wage enough for 2  \n",
       "25                  False  \n",
       "33                  False  \n",
       "12                  False  \n",
       "32                  False  \n",
       "30                  False  \n",
       "26                  False  \n",
       "16                  False  \n",
       "13                  False  \n",
       "29                  False  \n",
       "20                  False  \n",
       "10                  False  \n",
       "9                   False  "
      ]
     },
     "execution_count": 19,
     "metadata": {},
     "output_type": "execute_result"
    }
   ],
   "source": [
    "df2019[df2019['Min wage enough for 2']== False]"
   ]
  },
  {
   "cell_type": "markdown",
   "metadata": {
    "collapsed": true
   },
   "source": [
    "Note that both analyses performed (single person and 2-person household) followed these assumptions when calculating monthly salaries: \n",
    "1. People are paid the exact minimum wage value\n",
    "2. People work 30 days/month\n",
    "3. Tax deductions are ignored "
   ]
  },
  {
   "cell_type": "markdown",
   "metadata": {},
   "source": [
    "## Putting it All Together: \n",
    "### Which counties remained consistently unaffordable from 2015-2019?"
   ]
  },
  {
   "cell_type": "markdown",
   "metadata": {},
   "source": [
    "Using our results from the previous sections, lets find the intersection of the most unaffordable counties for all 5 years."
   ]
  },
  {
   "cell_type": "code",
   "execution_count": 20,
   "metadata": {},
   "outputs": [
    {
     "name": "stdout",
     "output_type": "stream",
     "text": [
      "{'Monroe County', 'Miami-Dade County', 'Palm Beach County', 'Collier County', 'St. Johns County', 'Broward County'}\n"
     ]
    }
   ],
   "source": [
    "unaffordable = set(df2019[df2019['Min wage enough for 2']== False]['County']).intersection(\n",
    "               set(df2018[df2018['Min wage enough for 2']== False]['County']),\n",
    "               set(df2017[df2017['Min wage enough for 2']== False]['County']),\n",
    "               set(df2016[df2016['Min wage enough for 2']== False]['County']),\n",
    "               set(df2015[df2015['Min wage enough for 2']== False]['County']))\n",
    "print(unaffordable) \n"
   ]
  },
  {
   "cell_type": "markdown",
   "metadata": {},
   "source": [
    "So Palm Beach County, Miami-Dade County, Collier County, Monroe County, St. Johns County, and Broward County all had unaffordable Medium Gross Rents across all 5 years, from 2015-2019. Let's get a concrete idea of where these counties are located. \n",
    "The code below yields a map of Florida, with these 6 counties highlighted. "
   ]
  },
  {
   "cell_type": "code",
   "execution_count": 21,
   "metadata": {
    "collapsed": true
   },
   "outputs": [],
   "source": [
    "import geopandas as gpd\n",
    "from shapely import wkt\n",
    "# Get Florida County Information (already uploaded)\n",
    "fl_county = pd.read_csv('fl_county.csv')\n",
    "fl_county['geometry'] = fl_county['geometry'].apply(wkt.loads)\n",
    "fl_county = gpd.GeoDataFrame(fl_county, crs='epsg:32617')\n",
    "# Subset it to the 6 counties of interest\n",
    "fl_county_high_MGR = fl_county[(fl_county['NAME'] == 'Monroe') |\n",
    "                               (fl_county['NAME'] =='Palm Beach')|\n",
    "                               (fl_county['NAME'] =='Collier')|\n",
    "                               (fl_county['NAME']== 'St. Johns')|\n",
    "                               (fl_county['NAME'] =='Miami-Dade')|\n",
    "                               (fl_county['NAME'] == 'Broward')]\n"
   ]
  },
  {
   "cell_type": "code",
   "execution_count": 49,
   "metadata": {},
   "outputs": [
    {
     "data": {
      "text/plain": [
       "([], [])"
      ]
     },
     "execution_count": 49,
     "metadata": {},
     "output_type": "execute_result"
    },
    {
     "data": {
      "image/png": "[encoded data removed]",
      "text/plain": [
       "<Figure size 1440x720 with 1 Axes>"
      ]
     },
     "metadata": {},
     "output_type": "display_data"
    }
   ],
   "source": [
    "# https://geopandas.org/en/latest/docs/user_guide/mapping.html for guidance \n",
    "# import modules for plotting\n",
    "import matplotlib.pyplot as plt\n",
    "import matplotlib.patches as mpatches\n",
    "\n",
    "# Create subplots\n",
    "fig, ax = plt.subplots(1, 1, figsize = (20, 10))\n",
    "\n",
    "# Plot the state of Florida and its county boundaries in black\n",
    "fl_county.plot(ax=ax, color='white', edgecolor='black')\n",
    "# Plot the 6 unaffordable counties of interest\n",
    "fl_county_high_MGR.plot(ax=ax, marker='o',cmap = \"rainbow\", markersize=5)\n",
    "\n",
    "# Create legend\n",
    "red_patch = mpatches.Patch(color='red', label='Collier County')\n",
    "purple_patch = mpatches.Patch(color='xkcd:violet', label='Broward County')\n",
    "cyan_patch = mpatches.Patch(color='cyan', label='Miami-Dade County')\n",
    "green_patch = mpatches.Patch(color='lightgreen', label='St. Johns County')\n",
    "blue_patch = mpatches.Patch(color='xkcd:azure', label='Palm Beach County')\n",
    "orange_patch = mpatches.Patch(color='orange', label='Monroe County')\n",
    "\n",
    "plt.legend(handles=[green_patch, red_patch, blue_patch, purple_patch, cyan_patch, orange_patch ],\n",
    "           loc = 'lower left',\n",
    "           fontsize = 12,\n",
    "           bbox_to_anchor=(.1, .1))\n",
    "\n",
    "# Change background color and add title\n",
    "ax.set_facecolor(\"lightblue\")\n",
    "plt.title('Figure 1: Highest Median Gross Rent Counties in FL', fontdict = {'fontsize': '21', 'fontweight' : 'bold'})\n",
    "\n",
    "# Disable ticks by setting them to an empty list\n",
    "plt.xticks([]) \n",
    "plt.yticks([]) "
   ]
  },
  {
   "cell_type": "markdown",
   "metadata": {},
   "source": [
    "Now lets look at some time series data on these 6 counties. We will combine our 5 data sets and plot the Medium Gross Rent each year for the most unaffordsable counties from 2015-2019. "
   ]
  },
  {
   "cell_type": "code",
   "execution_count": 23,
   "metadata": {},
   "outputs": [
    {
     "data": {
      "text/html": [
       "<div>\n",
       "<style scoped>\n",
       "    .dataframe tbody tr th:only-of-type {\n",
       "        vertical-align: middle;\n",
       "    }\n",
       "\n",
       "    .dataframe tbody tr th {\n",
       "        vertical-align: top;\n",
       "    }\n",
       "\n",
       "    .dataframe thead th {\n",
       "        text-align: right;\n",
       "    }\n",
       "</style>\n",
       "<table border=\"1\" class=\"dataframe\">\n",
       "  <thead>\n",
       "    <tr style=\"text-align: right;\">\n",
       "      <th></th>\n",
       "      <th>County</th>\n",
       "      <th>Median Gross Rent</th>\n",
       "      <th>state</th>\n",
       "      <th>CountyID</th>\n",
       "      <th>Min wage enough</th>\n",
       "      <th>Min wage enough for 2</th>\n",
       "      <th>Year</th>\n",
       "    </tr>\n",
       "  </thead>\n",
       "  <tbody>\n",
       "    <tr>\n",
       "      <th>0</th>\n",
       "      <td>Alachua County</td>\n",
       "      <td>863.0</td>\n",
       "      <td>FL</td>\n",
       "      <td>1</td>\n",
       "      <td>False</td>\n",
       "      <td>True</td>\n",
       "      <td>2015</td>\n",
       "    </tr>\n",
       "    <tr>\n",
       "      <th>1</th>\n",
       "      <td>Bay County</td>\n",
       "      <td>982.0</td>\n",
       "      <td>FL</td>\n",
       "      <td>5</td>\n",
       "      <td>False</td>\n",
       "      <td>True</td>\n",
       "      <td>2015</td>\n",
       "    </tr>\n",
       "    <tr>\n",
       "      <th>2</th>\n",
       "      <td>Brevard County</td>\n",
       "      <td>976.0</td>\n",
       "      <td>FL</td>\n",
       "      <td>9</td>\n",
       "      <td>False</td>\n",
       "      <td>True</td>\n",
       "      <td>2015</td>\n",
       "    </tr>\n",
       "    <tr>\n",
       "      <th>3</th>\n",
       "      <td>Broward County</td>\n",
       "      <td>1256.0</td>\n",
       "      <td>FL</td>\n",
       "      <td>11</td>\n",
       "      <td>False</td>\n",
       "      <td>False</td>\n",
       "      <td>2015</td>\n",
       "    </tr>\n",
       "    <tr>\n",
       "      <th>4</th>\n",
       "      <td>Charlotte County</td>\n",
       "      <td>932.0</td>\n",
       "      <td>FL</td>\n",
       "      <td>15</td>\n",
       "      <td>False</td>\n",
       "      <td>True</td>\n",
       "      <td>2015</td>\n",
       "    </tr>\n",
       "    <tr>\n",
       "      <th>...</th>\n",
       "      <td>...</td>\n",
       "      <td>...</td>\n",
       "      <td>...</td>\n",
       "      <td>...</td>\n",
       "      <td>...</td>\n",
       "      <td>...</td>\n",
       "      <td>...</td>\n",
       "    </tr>\n",
       "    <tr>\n",
       "      <th>199</th>\n",
       "      <td>St. Johns County</td>\n",
       "      <td>1334.0</td>\n",
       "      <td>FL</td>\n",
       "      <td>109</td>\n",
       "      <td>False</td>\n",
       "      <td>False</td>\n",
       "      <td>2019</td>\n",
       "    </tr>\n",
       "    <tr>\n",
       "      <th>200</th>\n",
       "      <td>St. Lucie County</td>\n",
       "      <td>1196.0</td>\n",
       "      <td>FL</td>\n",
       "      <td>111</td>\n",
       "      <td>False</td>\n",
       "      <td>True</td>\n",
       "      <td>2019</td>\n",
       "    </tr>\n",
       "    <tr>\n",
       "      <th>201</th>\n",
       "      <td>Sumter County</td>\n",
       "      <td>1185.0</td>\n",
       "      <td>FL</td>\n",
       "      <td>119</td>\n",
       "      <td>False</td>\n",
       "      <td>True</td>\n",
       "      <td>2019</td>\n",
       "    </tr>\n",
       "    <tr>\n",
       "      <th>202</th>\n",
       "      <td>Volusia County</td>\n",
       "      <td>1074.0</td>\n",
       "      <td>FL</td>\n",
       "      <td>127</td>\n",
       "      <td>False</td>\n",
       "      <td>True</td>\n",
       "      <td>2019</td>\n",
       "    </tr>\n",
       "    <tr>\n",
       "      <th>203</th>\n",
       "      <td>Walton County</td>\n",
       "      <td>1217.0</td>\n",
       "      <td>FL</td>\n",
       "      <td>131</td>\n",
       "      <td>False</td>\n",
       "      <td>True</td>\n",
       "      <td>2019</td>\n",
       "    </tr>\n",
       "  </tbody>\n",
       "</table>\n",
       "<p>204 rows × 7 columns</p>\n",
       "</div>"
      ],
      "text/plain": [
       "               County  Median Gross Rent state  CountyID  Min wage enough  \\\n",
       "0      Alachua County              863.0    FL         1            False   \n",
       "1          Bay County              982.0    FL         5            False   \n",
       "2      Brevard County              976.0    FL         9            False   \n",
       "3      Broward County             1256.0    FL        11            False   \n",
       "4    Charlotte County              932.0    FL        15            False   \n",
       "..                ...                ...   ...       ...              ...   \n",
       "199  St. Johns County             1334.0    FL       109            False   \n",
       "200  St. Lucie County             1196.0    FL       111            False   \n",
       "201     Sumter County             1185.0    FL       119            False   \n",
       "202    Volusia County             1074.0    FL       127            False   \n",
       "203     Walton County             1217.0    FL       131            False   \n",
       "\n",
       "     Min wage enough for 2  Year  \n",
       "0                     True  2015  \n",
       "1                     True  2015  \n",
       "2                     True  2015  \n",
       "3                    False  2015  \n",
       "4                     True  2015  \n",
       "..                     ...   ...  \n",
       "199                  False  2019  \n",
       "200                   True  2019  \n",
       "201                   True  2019  \n",
       "202                   True  2019  \n",
       "203                   True  2019  \n",
       "\n",
       "[204 rows x 7 columns]"
      ]
     },
     "metadata": {},
     "output_type": "display_data"
    }
   ],
   "source": [
    "# Add 'Year' column to each set\n",
    "df2015['Year'] = 2015\n",
    "df2016['Year'] = 2016\n",
    "df2017['Year'] = 2017\n",
    "df2018['Year'] = 2018\n",
    "df2019['Year'] = 2019\n",
    "# Combine the 4 sets\n",
    "pieces = (df2015,df2016,df2017,df2018,df2019)\n",
    "combined = pd.concat(pieces, ignore_index = True)\n",
    "display(combined)"
   ]
  },
  {
   "cell_type": "code",
   "execution_count": 48,
   "metadata": {},
   "outputs": [
    {
     "data": {
      "text/plain": [
       "<matplotlib.legend.Legend at 0x7f2f31aa24c0>"
      ]
     },
     "execution_count": 48,
     "metadata": {},
     "output_type": "execute_result"
    },
    {
     "data": {
      "image/png": "[encoded data removed]",
      "text/plain": [
       "<Figure size 864x432 with 1 Axes>"
      ]
     },
     "metadata": {
      "needs_background": "light"
     },
     "output_type": "display_data"
    }
   ],
   "source": [
    "combined['MGR'] = combined['Median Gross Rent']\n",
    "\n",
    "# For each county, plot it's MGR for each year\n",
    "plt.plot(combined[combined['County']=='Broward County'].Year, \n",
    "         combined[combined['County']=='Broward County'].MGR)\n",
    "plt.plot(combined[combined['County']=='Miami-Dade County'].Year, \n",
    "         combined[combined['County']=='Miami-Dade County'].MGR, \n",
    "         color = 'green')\n",
    "plt.plot(combined[combined['County']=='Collier County'].Year, \n",
    "         combined[combined['County']=='Collier County'].MGR, \n",
    "         color = 'red')\n",
    "plt.plot(combined[combined['County']=='St. Johns County'].Year, \n",
    "         combined[combined['County']=='St. Johns County'].MGR, \n",
    "         color = 'purple')\n",
    "plt.plot(combined[combined['County']=='Palm Beach County'].Year, \n",
    "         combined[combined['County']=='Palm Beach County'].MGR, \n",
    "         color = 'orange')\n",
    "plt.plot(combined[combined['County']=='Monroe County'].Year, \n",
    "         combined[combined['County']=='Monroe County'].MGR, \n",
    "         color = 'pink')\n",
    "# Add title, fix labels and size\n",
    "plt.title('Figure 2: Median Gross Rent by Year for Most Unaffordable Counties in FL',fontsize = 17)\n",
    "plt.xlabel('Year',fontsize = 17)\n",
    "plt.ylabel('Median Gross Rent ($)',fontsize = 12)\n",
    "plt.rcParams[\"figure.figsize\"] = (12,6)\n",
    "default_x_ticks = [2015,2016,2017,2018,2019]\n",
    "plt.xticks(default_x_ticks)\n",
    "\n",
    "# Create legend to distinguish counties\n",
    "red_patch = mpatches.Patch(color='red', label='Collier County')\n",
    "blue_patch = mpatches.Patch(color='blue', label='Broward County')\n",
    "green_patch = mpatches.Patch(color='green', label='Miami-Dade County')\n",
    "purple_patch = mpatches.Patch(color='purple', label='St. Johns County')\n",
    "orange_patch = mpatches.Patch(color='orange', label='Palm Beach County')\n",
    "pink_patch = mpatches.Patch(color='pink', label='Monroe County')\n",
    "\n",
    "plt.legend(handles=[pink_patch,orange_patch,blue_patch,green_patch,red_patch,purple_patch],\n",
    "           loc = 'lower right',\n",
    "           fontsize = 9,\n",
    "           bbox_to_anchor=(1.2, 0.6))"
   ]
  },
  {
   "cell_type": "markdown",
   "metadata": {},
   "source": [
    "Some observations from the plot above:\n",
    "- We can see an overall upwards trend in rent for all 6 counties.\n",
    "- Monroe County has significantly higher rent prices than the other counties. \n",
    "- Miami-Dade County and its neighboring Broward County have no obvious drops or increases in rent.  \n",
    "- Something intresting to notice is that 3 of the counties (Palm Beach, Collier, and St. Johns) had a drop in rent in 2018, while Monroe County had an increase. We do not have enough data to conclude this, but based on these 5 years, Monroe County appears to also have a cyclical pattern: rent increases one year and decreases the next. Further research should include more past data, perhaps up to the year 2005. This will confirm or deny Monroe County's trend and pattern, as well as determing any other patterns in the other counties. \n",
    "\n",
    "\n",
    "\n",
    "\n",
    "\n",
    "\n"
   ]
  },
  {
   "cell_type": "markdown",
   "metadata": {},
   "source": [
    "\n",
    "\n",
    "\n",
    "\n",
    "\n",
    "Now we will calculate the average Median Gross Rent across all 5 years for each of these counties, and plot them in a bar graph."
   ]
  },
  {
   "cell_type": "code",
   "execution_count": 112,
   "metadata": {},
   "outputs": [
    {
     "data": {
      "text/plain": [
       "Text(0, 0.5, 'Avg Median Gross Rent ($)')"
      ]
     },
     "execution_count": 112,
     "metadata": {},
     "output_type": "execute_result"
    },
    {
     "data": {
      "image/png": "[encoded data removed]",
      "text/plain": [
       "<Figure size 864x432 with 1 Axes>"
      ]
     },
     "metadata": {
      "needs_background": "light"
     },
     "output_type": "display_data"
    }
   ],
   "source": [
    "# Create dictionary where keys are the counties, and the values are the corresponing rent averages.\n",
    "avg_rents = {}\n",
    "for c in unaffordable:\n",
    "    current = combined[combined['County'] == c]\n",
    "    avg_rents[c] = current['MGR'].mean()\n",
    "\n",
    "# Loop through dictionary and create 2-D array of county and average values\n",
    "data = []\n",
    "for c in avg_rents:\n",
    "    data.append([c, avg_rents[c]])  \n",
    "    \n",
    "# Turn array into dataframe    \n",
    "df = pd.DataFrame(data, columns=['County', 'Mean MGR'])\n",
    "\n",
    "# Make names shorter so it's more legible in the bar graph\n",
    "pattern = re.compile(' County')\n",
    "df[\"County\"] = df[\"County\"].str.replace(pattern,\"\")\n",
    "\n",
    "# Plot the bar graph\n",
    "df = df.sort_values(by = 'Mean MGR', ascending=True, ignore_index = False)\n",
    "plt.bar(df['County'],df['Mean MGR'],width=0.5)\n",
    "# Add title and labels\n",
    "plt.title('Figure 3: Average Median Gross Rent for Most Unaffordable Counties in FL',fontsize = 17)\n",
    "plt.xlabel('County',fontsize = 17)\n",
    "plt.ylabel('Avg Median Gross Rent ($)',fontsize = 12)"
   ]
  },
  {
   "cell_type": "markdown",
   "metadata": {},
   "source": [
    "- As expected, Monroe County has the highest average Median Gross rent. \n",
    "- What suprises me is that Broward County has a higher average than Miami-Dade. As a Broward County native, I've persoanlly witnessed higher rent in Miami-Dade county. \n",
    "\n",
    "\n",
    "\n",
    "Figure 3 above doesn't show much else. It might be  more useful to compare the averages used in Figure 3 with the averages, across all 5 years, of the other counties that were determined to be affordable for a 2-person household. Let's plot all the averages below. "
   ]
  },
  {
   "cell_type": "code",
   "execution_count": 126,
   "metadata": {},
   "outputs": [
    {
     "data": {
      "text/plain": [
       "<matplotlib.legend.Legend at 0x7f2efff98640>"
      ]
     },
     "execution_count": 126,
     "metadata": {},
     "output_type": "execute_result"
    },
    {
     "data": {
      "image/png": "[encoded data removed]",
      "text/plain": [
       "<Figure size 864x576 with 1 Axes>"
      ]
     },
     "metadata": {
      "needs_background": "light"
     },
     "output_type": "display_data"
    }
   ],
   "source": [
    "affordable = combined[(combined['County']!='Broward County')&\n",
    "                                (combined['County']!='Miami-Dade County')&\n",
    "                                (combined['County']!='Collier County')&\n",
    "                                (combined['County']!='St. Johns County')&\n",
    "                                (combined['County']!='Monroe County')&\n",
    "                                (combined['County']!='Palm Beach County')]\n",
    "# Make columns easier to read\n",
    "pattern = re.compile(' County')\n",
    "affordable2 = affordable.copy()\n",
    "affordable2[\"County\"] = affordable[\"County\"].str.replace(pattern,\"\")\n",
    "# Get averages\n",
    "grouped = affordable2.groupby(\"County\")\n",
    "afford_counties = []\n",
    "avgs = []\n",
    "for key, item in grouped:\n",
    "    afford_counties.append(key)\n",
    "    avgs.append(grouped.get_group(key)['MGR'].mean())\n",
    "# Plot values     \n",
    "plt.scatter(y = afford_counties, x = avgs)\n",
    "plt.scatter(y = ['Monroe', 'Miami-Dade', 'Palm Beach', 'Collier', 'St. Johns', 'Broward'], \n",
    "            x = (avg_rents.values()))\n",
    "# Add title and labels\n",
    "plt.title('Figure 4: Average Rent Across 2015-2019 in All Counties in FL',fontsize = 17)\n",
    "plt.ylabel('County',fontsize = 13)\n",
    "plt.xlabel('Avg Median Gross Rent ($)',fontsize = 12)\n",
    "plt.tick_params(axis='y', labelsize=10)\n",
    "plt.rcParams[\"figure.figsize\"] = (12,8)\n",
    "# Add legend\n",
    "orange_patch = mpatches.Patch(color='orange', label='Unaffordable County')\n",
    "blue_patch = mpatches.Patch(color='blue', label='Affordable County')\n",
    "\n",
    "plt.legend(handles=[blue_patch,orange_patch,],\n",
    "           loc = 'lower right',\n",
    "           fontsize = 12,\n",
    "           bbox_to_anchor=(1,.2))"
   ]
  },
  {
   "cell_type": "markdown",
   "metadata": {},
   "source": [
    "Figure 4 shows more information than Figure 3. Here we can visually see the differences in average rents between our two populations: counties with affordable rent (for a 2-person household) and counties with unaffordable rent. A cluster of orange dots is evident."
   ]
  },
  {
   "cell_type": "markdown",
   "metadata": {},
   "source": [
    "Now lets plot the Gross Rents for each county for each year in a grouped bar graph. The code below accomplishes this. "
   ]
  },
  {
   "cell_type": "code",
   "execution_count": 29,
   "metadata": {
    "collapsed": true
   },
   "outputs": [],
   "source": [
    "# Set up code for the grouped bar chart\n",
    "combined_expensive = combined[(combined['County']=='Broward County')|\n",
    "                                (combined['County']=='Miami-Dade County')|\n",
    "                                (combined['County']=='Collier County')|\n",
    "                                (combined['County']=='St. Johns County')|\n",
    "                                (combined['County']=='Monroe County')|\n",
    "                                (combined['County']=='Palm Beach County')]\n",
    "\n",
    "\n",
    "broward = combined_expensive[combined_expensive['County'] == 'Broward County'] \n",
    "miami = combined_expensive[combined_expensive['County'] == 'Miami-Dade County'] \n",
    "collier = combined_expensive[combined_expensive['County'] == 'Collier County'] \n",
    "johns = combined_expensive[combined_expensive['County'] == 'St. Johns County'] \n",
    "monroe = combined_expensive[combined_expensive['County'] == 'Monroe County'] \n",
    "palm = combined_expensive[combined_expensive['County'] == 'Palm Beach County'] "
   ]
  },
  {
   "cell_type": "code",
   "execution_count": 51,
   "metadata": {},
   "outputs": [
    {
     "data": {
      "image/png": "[encoded data removed]",
      "text/plain": [
       "<Figure size 864x432 with 1 Axes>"
      ]
     },
     "metadata": {
      "needs_background": "light"
     },
     "output_type": "display_data"
    }
   ],
   "source": [
    "# Plot the grouped bar chart\n",
    "labels = ['2015', '2016', '2017', '2018', '2019']\n",
    "x = np.arange(len(labels))  # the label locations\n",
    "width = 0.14  # the width of the bars\n",
    "\n",
    "fig, ax = plt.subplots()\n",
    "rects1 = ax.bar(x, list(johns['MGR']), width, label='St. Johns')\n",
    "rects2 = ax.bar(x + width, list(collier['MGR']), width, label='Collier')\n",
    "rects3 = ax.bar(x + width*2, list(miami['MGR']), width, label='Miami-Dade')\n",
    "rects4 = ax.bar(x + width*3, list(broward['MGR']), width, label='Broward')\n",
    "rects5 = ax.bar(x + width*4, list(palm['MGR']), width, label='Palm Beach',color = 'pink')\n",
    "rects6 = ax.bar(x + width*5, list(monroe['MGR']), width, label='Monroe')\n",
    "\n",
    "\n",
    "# Add some text for labels, title and custom x-axis tick labels, etc.\n",
    "ax.set_ylabel('Gross Rent ($)',fontsize = 15)\n",
    "ax.set_title('Figure 5: Median Gross Rent by County',fontsize = 20)\n",
    "ax.set_xticks([0.3,1.3,2.3,3.3,4.3],labels)\n",
    "ax.legend()\n",
    "fig.tight_layout()\n",
    "plt.show()"
   ]
  },
  {
   "cell_type": "markdown",
   "metadata": {},
   "source": [
    "Some insight gained from Figure 5 is that Monroe County's rent is much higher than the other counties' rents up until 2019. In 2019, the differences seem to level out. I would be curious to see what this looks like in 2020 once that data is available. "
   ]
  },
  {
   "cell_type": "markdown",
   "metadata": {},
   "source": [
    "## Conclusion\n",
    "\n",
    "- Using our data, assumptions, and limitations, we did find the counties with the highest Median Gross Rents.\n",
    "I'd like to do further statistical tests and get the confidence level behind our findings, i.e., we can say that these 6 counties are the most expensive in Florida with x% confidence. \n",
    "\n",
    "- All in all, there is a positive trend on rent prices. \n",
    "- A single-person household earning a minimum wage salary cannot afford rent in ANY county in Florida.\n",
    "- Something I found was that the most expensive counties in Florida are located in south Florida, with the exception of St. Johns County. \n",
    "\n",
    "- Future research may also use income data instead of minimum wage data; this can provide further insights on affordability in Florida; it should also use more recent census data as it becomes available. "
   ]
  }
 ],
 "metadata": {
  "kernelspec": {
   "display_name": "Python 3.8",
   "language": "python",
   "name": "python38"
  },
  "language_info": {
   "codemirror_mode": {
    "name": "ipython",
    "version": 3
   },
   "file_extension": ".py",
   "mimetype": "text/x-python",
   "name": "python",
   "nbconvert_exporter": "python",
   "pygments_lexer": "ipython3",
   "version": "3.8.7"
  }
 },
 "nbformat": 4,
 "nbformat_minor": 2
}
